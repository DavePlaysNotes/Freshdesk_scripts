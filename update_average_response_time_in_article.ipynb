{
 "cells": [
  {
   "cell_type": "code",
   "execution_count": 76,
   "metadata": {},
   "outputs": [],
   "source": [
    "# –––– Purpose of this script ––––\n",
    "\n",
    "# It can be useful to advertise your team's current response time in an article\n",
    "# This script will find and update the response time in a given article using this formatting: 'XXh XXm'. \n",
    "# Eg. 'we are responding to tickets in 5h 12m this week'\n",
    "\n",
    "# The script will:\n",
    "# 1. Pull the content of an article from your support desk\n",
    "# 2. Calculate the support team's recent average response time from a Freshdesk report\n",
    "# 3. Update the article content with the new average response time\n",
    "\n",
    "\n"
   ]
  },
  {
   "cell_type": "code",
   "execution_count": 77,
   "metadata": {},
   "outputs": [],
   "source": [
    "# –––– Preperations before this script can run –––– \n",
    "\n",
    "# Schedule a weekly export of ticket properties (not activities) in Freshdesk and set it to receive the file by API.\n",
    "# https://support.freshdesk.com/support/solutions/articles/226461-export-ticket-properties-from-your-helpdesk\n",
    "\n",
    "# Provide some details:\n",
    "\n",
    "desk_name = 'your_Freshdesk_account_name'\n",
    "# This is your Freshdesk URL without '.freshdesk.com' on the end. \n",
    "# eg: if your full URL is 'megashop.freshdesk.com' use 'megashop'\n",
    "\n",
    "auth_deets = (\"your_API_key\", \"your_Freshdesk_password\") \n",
    "# Your Freshdesk API key is in your Freshdesk profile: https://support.freshdesk.com/support/solutions/articles/215517-how-to-find-your-api-key\n",
    "# A password must be provided but it does not appear to be verified. I haven't confirmed with Freshdesk if this is a bug. \n",
    "# For security's sake, you can leave the password as it is or enter in some humourous nonsense for your own satisfaction. \n",
    "\n",
    "target_article = '12345678901'\n",
    "# This is an 11 digit number, which you will see in the URL when viewing that article.\n",
    "# eg: https://megashop.freshdesk.com/support/solutions/articles/12345678901\n",
    "\n",
    "precursor = 'average response time is'\n",
    "# The precursor should be the few words leading up to your response time. \n",
    "# It doesn't need to be much, and should not cross any new lines.\n",
    "\n",
    "export_URL = ''\n",
    "# This is the URL at the bottom of the Freshdesk reports page when you schedule the report and opt to receive it via the API\n",
    "# It should look something like: 'https://megashop.freshdesk.com/reports/scheduled_exports/1234567890123456/download_file.json'\n"
   ]
  },
  {
   "cell_type": "code",
   "execution_count": 78,
   "metadata": {},
   "outputs": [],
   "source": [
    "# –––– Import libraries –––– \n",
    "import requests as r\n",
    "import json\n",
    "import pandas as pd\n",
    "import re\n",
    "from datetime import date, datetime, timedelta\n",
    "from io import StringIO\n",
    "\n",
    "\n",
    "\n",
    "# –––– Prepare function to report query errors –––– \n",
    "\n",
    "def reporter(query):\n",
    "    if query.status_code != 200:\n",
    "        print(\"Query didn't work: \", query.status_code, query.reason, query.url)\n",
    "\n",
    "            \n",
    "\n",
    "# –––– Prepare desk URL for API calls –––– \n",
    "\n",
    "desk_URL = 'https://' + desk_name + '.freshdesk.com'\n",
    "\n",
    "\n"
   ]
  },
  {
   "cell_type": "code",
   "execution_count": 84,
   "metadata": {},
   "outputs": [
    {
     "name": "stdout",
     "output_type": "stream",
     "text": [
      "The existing response time is 12h 4m\n"
     ]
    }
   ],
   "source": [
    "# –––– 1. Pull the content of target article from support desk –––– \n",
    "\n",
    "\n",
    "# Query API to get the article in its current form\n",
    "art_query = r.get(desk_URL + \"/api/v2/solutions/articles/\" + target_article, \n",
    "                  auth = auth_deets)\n",
    "\n",
    "# Report any query errors\n",
    "reporter(art_query) \n",
    "\n",
    "# Convert query from json and pull description field from it\n",
    "art_content = art_query.json()['description']\n",
    "\n",
    "# Locate the current response time string\n",
    "old_response_time = re.search('(' + precursor + ')(.*?)([0-9]*?h [0-9]?[0-9]?m)', art_content).group(3)\n",
    "\n",
    "print('The existing response time is ' + old_response_time)\n",
    "\n"
   ]
  },
  {
   "cell_type": "code",
   "execution_count": 85,
   "metadata": {},
   "outputs": [
    {
     "name": "stdout",
     "output_type": "stream",
     "text": [
      "The new response time is 12h 4m\n"
     ]
    }
   ],
   "source": [
    "# –––– 2. Calculate the support team's recent average response time –––– \n",
    "\n",
    "tix_query = r.get(export_URL, auth = auth_deets)\n",
    "\n",
    "reporter(tix_query) \n",
    "\n",
    "# Extract the report's URL from the response\n",
    "tix_response = tix_query.json()\n",
    "tix_second_query_link = tix_response['export']['url']\n",
    "\n",
    "# Query again for this week's report\n",
    "tix_second_query = r.get(tix_second_query_link)\n",
    "reporter(tix_second_query)\n",
    "\n",
    "# Convert to dataframe \n",
    "tix = pd.read_csv(StringIO(str(tix_second_query.content,'utf-8')))\n",
    "\n",
    "# Cast response times to timedeltas\n",
    "durations = ['First Response Time (in Hrs)','Resolution Time (in Hrs)']\n",
    "    \n",
    "for d in durations:\n",
    "    tix[d] = pd.to_timedelta(tix[d])\n",
    "    \n",
    "# Calculate the current response time\n",
    "response_time = tix['First Response Time (in Hrs)'][tix['Agent interactions'] > 0].mean()\n",
    "\n",
    "# Convert timedelta to nice format\n",
    "hours_from_days = response_time.days*24\n",
    "total_minutes = response_time.seconds/60\n",
    "hours_from_minutes = int(total_minutes // 60)\n",
    "remaining_minutes = int(total_minutes % 60)\n",
    "\n",
    "total_hours = hours_from_days + int(round(hours_from_minutes,0))\n",
    "total_minutes = remaining_minutes\n",
    "\n",
    "final_response_time = str(total_hours) + 'h ' + str(total_minutes) + 'm'\n",
    "\n",
    "print('The new response time is ' + final_response_time)\n",
    "\n",
    "\n"
   ]
  },
  {
   "cell_type": "code",
   "execution_count": 83,
   "metadata": {},
   "outputs": [],
   "source": [
    "# –––– 3. Update the article content with the new average response time –––– \n",
    "\n",
    "# Prepare new_art_content for PUT query. We are updating the description field\n",
    "new_art_content = re.sub(old_response_time, final_response_time, art_content)\n",
    "new_art_put_content = {'description' : new_art_content}\n",
    "\n",
    "# Put-query the article string back into the live article\n",
    "new_art_putter = r.put(desk_URL + \"/api/v2/solutions/articles/\" + target_article,\n",
    "                       json = new_art_put_content,\n",
    "                       auth = auth_deets)\n",
    "\n",
    "reporter(new_art_putter)"
   ]
  }
 ],
 "metadata": {
  "kernelspec": {
   "display_name": "Python 3",
   "language": "python",
   "name": "python3"
  },
  "language_info": {
   "codemirror_mode": {
    "name": "ipython",
    "version": 3
   },
   "file_extension": ".py",
   "mimetype": "text/x-python",
   "name": "python",
   "nbconvert_exporter": "python",
   "pygments_lexer": "ipython3",
   "version": "3.7.1"
  }
 },
 "nbformat": 4,
 "nbformat_minor": 2
}
